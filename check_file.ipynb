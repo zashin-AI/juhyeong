{
 "metadata": {
  "language_info": {
   "codemirror_mode": {
    "name": "ipython",
    "version": 3
   },
   "file_extension": ".py",
   "mimetype": "text/x-python",
   "name": "python",
   "nbconvert_exporter": "python",
   "pygments_lexer": "ipython3",
   "version": "3.8.5"
  },
  "orig_nbformat": 2,
  "kernelspec": {
   "name": "python385jvsc74a57bd0a2e53efa74b27d20dc3ab333d791ccd21d13c668ceaebbbfa19de65cb2818958",
   "display_name": "Python 3.8.5 64-bit ('nmb': conda)"
  }
 },
 "nbformat": 4,
 "nbformat_minor": 2,
 "cells": [
  {
   "cell_type": "code",
   "execution_count": 36,
   "metadata": {},
   "outputs": [],
   "source": [
    "import librosa\n",
    "import numpy as np\n",
    "\n",
    "from tensorflow.keras.models import load_model"
   ]
  },
  {
   "cell_type": "code",
   "execution_count": 37,
   "metadata": {},
   "outputs": [],
   "source": [
    "y, sr = librosa.load('c:/nmb/nmb_data/predict/F/F1.wav')"
   ]
  },
  {
   "cell_type": "code",
   "execution_count": 38,
   "metadata": {},
   "outputs": [],
   "source": [
    "y_mel = librosa.feature.melspectrogram(\n",
    "    y, sr = sr,\n",
    "    n_fft=512, hop_length=128, win_length=512\n",
    ")\n",
    "y_mel = librosa.amplitude_to_db(y_mel, ref = np.max)\n",
    "y_mel = y_mel.reshape(1, y_mel.shape[0], y_mel.shape[1])"
   ]
  },
  {
   "cell_type": "code",
   "execution_count": 39,
   "metadata": {},
   "outputs": [
    {
     "output_type": "stream",
     "name": "stdout",
     "text": [
      "(1, 128, 862)\n"
     ]
    }
   ],
   "source": [
    "print(y_mel.shape)"
   ]
  },
  {
   "cell_type": "code",
   "execution_count": 40,
   "metadata": {},
   "outputs": [],
   "source": [
    "model = load_model('c:/data/modelcheckpoint/mobilenet_rmsprop_1.h5')"
   ]
  },
  {
   "cell_type": "code",
   "execution_count": 41,
   "metadata": {},
   "outputs": [],
   "source": [
    "y_pred = model.predict(y_mel)\n",
    "y_pred = np.argmax(y_pred)"
   ]
  },
  {
   "cell_type": "code",
   "execution_count": 42,
   "metadata": {},
   "outputs": [
    {
     "output_type": "stream",
     "name": "stdout",
     "text": [
      "0\n()\n"
     ]
    }
   ],
   "source": [
    "print(y_pred)"
   ]
  }
 ]
}