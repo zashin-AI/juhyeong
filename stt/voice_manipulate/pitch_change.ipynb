{
 "metadata": {
  "language_info": {
   "codemirror_mode": {
    "name": "ipython",
    "version": 3
   },
   "file_extension": ".py",
   "mimetype": "text/x-python",
   "name": "python",
   "nbconvert_exporter": "python",
   "pygments_lexer": "ipython3",
   "version": "3.8.5"
  },
  "orig_nbformat": 2,
  "kernelspec": {
   "name": "python385jvsc74a57bd0a2e53efa74b27d20dc3ab333d791ccd21d13c668ceaebbbfa19de65cb2818958",
   "display_name": "Python 3.8.5 64-bit ('nmb': conda)"
  }
 },
 "nbformat": 4,
 "nbformat_minor": 2,
 "cells": [
  {
   "cell_type": "code",
   "execution_count": 169,
   "metadata": {},
   "outputs": [],
   "source": [
    "import parselmouth\n",
    "import soundfile as sf\n",
    "import numpy as np\n",
    "\n",
    "from parselmouth.praat import call"
   ]
  },
  {
   "cell_type": "code",
   "execution_count": 170,
   "metadata": {},
   "outputs": [
    {
     "output_type": "stream",
     "name": "stdout",
     "text": [
      "Object type: Sound\nObject name: <no name>\nDate: Mon Apr 26 16:55:04 2021\n\nNumber of channels: 1 (mono)\nTime domain:\n   Start time: 0 seconds\n   End time: 5 seconds\n   Total duration: 5 seconds\nTime sampling:\n   Number of samples: 240000\n   Sampling period: 2.0833333333333333e-05 seconds\n   Sampling frequency: 48000 Hz\n   First sample centred at: 1.0416666666666666e-05 seconds\nAmplitude:\n   Minimum: -0.390014648 Pascal\n   Maximum: 0.437866211 Pascal\n   Mean: 1.90734863e-09 Pascal\n   Root-mean-square: 0.0584435295 Pascal\nTotal energy: 0.0170782307 Pascal² sec (energy in air: 4.26955768e-05 Joule/m²)\nMean power (intensity) in air: 8.53911536e-06 Watt/m² = 69.31 dB\nStandard deviation in channel 1: 0.0584436513 Pascal\n\n"
     ]
    }
   ],
   "source": [
    "sound = parselmouth.Sound('c:/nmb/nmb_data/M2.wav')\n",
    "\n",
    "print(sound)"
   ]
  },
  {
   "cell_type": "code",
   "execution_count": 171,
   "metadata": {},
   "outputs": [
    {
     "output_type": "stream",
     "name": "stdout",
     "text": [
      "Object type: Manipulation\nObject name: untitled\nDate: Mon Apr 26 16:55:04 2021\n\nDomain:\n   xmin: 0\n   xmax: 5\n\n"
     ]
    }
   ],
   "source": [
    "manipulation = call(sound, 'To Manipulation', 0.01, 75, 600)\n",
    "\n",
    "print(manipulation)"
   ]
  },
  {
   "cell_type": "code",
   "execution_count": 172,
   "metadata": {},
   "outputs": [],
   "source": [
    "pitch_tier = call(manipulation, 'Extract pitch tier')\n",
    "\n",
    "call(pitch_tier, 'Multiply frequencies', sound.xmin, sound.xmax, 2)\n",
    "\n",
    "call([pitch_tier, manipulation], 'Replace pitch tier')\n",
    "sound_octave_up = call(manipulation, 'Get resynthesis (overlap-add)')"
   ]
  },
  {
   "cell_type": "code",
   "execution_count": 173,
   "metadata": {},
   "outputs": [],
   "source": [
    "# sf.write('c:/nmb/nmb_data/M2_pitch.wav', data = sound_octave_up.values, samplerate = sound_octave_up.sampling_frequency)"
   ]
  },
  {
   "cell_type": "code",
   "execution_count": 174,
   "metadata": {},
   "outputs": [
    {
     "output_type": "stream",
     "name": "stdout",
     "text": [
      "[[-0.00082397 -0.00082397 -0.00079346 ... -0.01159668 -0.0118103\n  -0.01205444]]\n[[-0.00082398 -0.00082398 -0.00079346 ... -0.01159668 -0.0118103\n  -0.01205445]]\n"
     ]
    }
   ],
   "source": [
    "print(sound.values)\n",
    "print(sound_octave_up.values)"
   ]
  },
  {
   "cell_type": "code",
   "execution_count": 175,
   "metadata": {},
   "outputs": [
    {
     "output_type": "stream",
     "name": "stdout",
     "text": [
      "1\n1\n"
     ]
    }
   ],
   "source": [
    "print(len(sound.values))\n",
    "print(len(sound_octave_up.values))"
   ]
  },
  {
   "cell_type": "code",
   "execution_count": 176,
   "metadata": {},
   "outputs": [
    {
     "output_type": "stream",
     "name": "stdout",
     "text": [
      "(1, 240000)\n<class 'parselmouth.Sound'>\n(240000,)\n"
     ]
    }
   ],
   "source": [
    "print(sound.values.shape)\n",
    "print(type(sound))\n",
    "sound = np.squeeze(sound)\n",
    "print(sound.shape)"
   ]
  },
  {
   "cell_type": "code",
   "execution_count": 177,
   "metadata": {},
   "outputs": [],
   "source": [
    "import librosa"
   ]
  },
  {
   "cell_type": "code",
   "execution_count": 178,
   "metadata": {},
   "outputs": [],
   "source": [
    "data, rate = librosa.load('c:/nmb/nmb_data/M2.wav')"
   ]
  },
  {
   "cell_type": "code",
   "execution_count": 179,
   "metadata": {},
   "outputs": [
    {
     "output_type": "stream",
     "name": "stdout",
     "text": [
      "[-0.00059613 -0.00085017 -0.00061753 ... -0.01141425 -0.01117867\n -0.01249205]\n110250\n240000\n"
     ]
    }
   ],
   "source": [
    "print(data)\n",
    "print(len(data))\n",
    "print(len(sound))"
   ]
  },
  {
   "cell_type": "code",
   "execution_count": null,
   "metadata": {},
   "outputs": [],
   "source": []
  }
 ]
}